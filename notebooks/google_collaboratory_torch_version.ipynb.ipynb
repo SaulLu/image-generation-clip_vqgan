{
  "nbformat": 4,
  "nbformat_minor": 2,
  "metadata": {
    "accelerator": "GPU",
    "colab": {
      "name": "generate_img_torch.ipynb",
      "provenance": [],
      "collapsed_sections": []
    },
    "kernelspec": {
      "display_name": "Python 3",
      "name": "python3"
    },
    "language_info": {
      "name": "python"
    }
  },
  "cells": [
    {
      "cell_type": "code",
      "execution_count": null,
      "source": [
        "!nvidia-smi"
      ],
      "outputs": [],
      "metadata": {
        "colab": {
          "base_uri": "https://localhost:8080/"
        },
        "id": "TIg-2gKUpylW",
        "outputId": "a9725a18-47aa-4f88-d5f2-19bedaf269b5"
      }
    },
    {
      "cell_type": "code",
      "execution_count": null,
      "source": [
        "!pip install wandb"
      ],
      "outputs": [],
      "metadata": {
        "colab": {
          "base_uri": "https://localhost:8080/"
        },
        "id": "D6ELO-uH7ekr",
        "outputId": "c124dadf-60ae-4dc8-fd45-658aee683e39"
      }
    },
    {
      "cell_type": "code",
      "execution_count": null,
      "source": [
        "!wandb login"
      ],
      "outputs": [],
      "metadata": {
        "colab": {
          "base_uri": "https://localhost:8080/"
        },
        "id": "fAtc4_v2zWyP",
        "outputId": "4387ce95-d492-4e91-b677-a9508b6b578f"
      }
    },
    {
      "cell_type": "code",
      "execution_count": null,
      "source": [
        "!nvcc --version"
      ],
      "outputs": [],
      "metadata": {
        "id": "Kc5fl39Ypmdd",
        "colab": {
          "base_uri": "https://localhost:8080/"
        },
        "outputId": "3e6b3114-8592-4b18-8356-2d5ee7842805"
      }
    },
    {
      "cell_type": "code",
      "execution_count": null,
      "source": [
        "!git clone https://github.com/SaulLu/image-generation-clip_vqgan.git"
      ],
      "outputs": [],
      "metadata": {
        "id": "n_PaWGfyF6jY",
        "colab": {
          "base_uri": "https://localhost:8080/"
        },
        "outputId": "c8fb93d4-4f5a-4325-e0ac-e409bfab9c8b"
      }
    },
    {
      "cell_type": "code",
      "execution_count": null,
      "source": [
        "cd image-generation-clip_vqgan"
      ],
      "outputs": [],
      "metadata": {
        "id": "mAsv_Bb_EfST",
        "colab": {
          "base_uri": "https://localhost:8080/"
        },
        "outputId": "f47da826-489d-47b2-cc79-6e0975cfdb43"
      }
    },
    {
      "cell_type": "code",
      "execution_count": null,
      "source": [
        "# !git config --global user.email \"you@example.com\"\n",
        "# !git config --global user.name \"Your Name\""
      ],
      "outputs": [],
      "metadata": {
        "id": "EC0FARUjrfnt"
      }
    },
    {
      "cell_type": "code",
      "execution_count": null,
      "source": [
        "# !git reset --hard origin/vmap"
      ],
      "outputs": [],
      "metadata": {
        "id": "qzfM5QUkr0is"
      }
    },
    {
      "cell_type": "code",
      "execution_count": null,
      "source": [
        "!git pull"
      ],
      "outputs": [],
      "metadata": {
        "id": "FHHEoZ0CEtup",
        "colab": {
          "base_uri": "https://localhost:8080/"
        },
        "outputId": "64557891-2668-4b1e-b400-88e4039b95a9"
      }
    },
    {
      "cell_type": "code",
      "execution_count": null,
      "source": [
        "!git branch"
      ],
      "outputs": [],
      "metadata": {
        "id": "dikEkQqBErc_",
        "colab": {
          "base_uri": "https://localhost:8080/"
        },
        "outputId": "c99f4e1c-954b-48bb-fb19-d86fb6acbffe"
      }
    },
    {
      "cell_type": "code",
      "execution_count": null,
      "source": [
        "!git checkout main"
      ],
      "outputs": [],
      "metadata": {
        "id": "ZW5NdMrEEzr-",
        "colab": {
          "base_uri": "https://localhost:8080/"
        },
        "outputId": "7c8d67ae-b57f-4bf2-ce2e-c8827f51fa8d"
      }
    },
    {
      "cell_type": "code",
      "execution_count": null,
      "source": [
        "!git clone https://github.com/openai/CLIP                 &> /dev/null\n",
        " \n",
        "!git clone https://github.com/CompVis/taming-transformers &> /dev/null\n",
        "!pip install ftfy regex tqdm omegaconf pytorch-lightning  &> /dev/null\n",
        "!pip install kornia                                       &> /dev/null\n",
        "!pip install einops                                       &> /dev/null\n",
        "!pip install wget                                         &> /dev/null\n",
        " \n",
        "!pip install stegano                                      &> /dev/null\n",
        "!apt install exempi                                       &> /dev/null\n",
        "!pip install python-xmp-toolkit                           &> /dev/null\n",
        "!pip install imgtag                                       &> /dev/null\n",
        "!pip install pillow==7.1.2                                &> /dev/null\n",
        " \n",
        "!pip install imageio-ffmpeg                               &> /dev/null"
      ],
      "outputs": [],
      "metadata": {
        "id": "qZEldeGEcA2b"
      }
    },
    {
      "cell_type": "code",
      "execution_count": null,
      "source": [
        "ls"
      ],
      "outputs": [],
      "metadata": {
        "id": "xKSFtckk2XPt",
        "colab": {
          "base_uri": "https://localhost:8080/"
        },
        "outputId": "79305db6-e9ca-40b1-8410-7d985b2ca4f2"
      }
    },
    {
      "cell_type": "code",
      "execution_count": null,
      "source": [
        "from CLIP import clip"
      ],
      "outputs": [],
      "metadata": {
        "id": "Nui6QYjg3Ayy"
      }
    },
    {
      "cell_type": "code",
      "execution_count": null,
      "source": [
        "!curl -L 'https://heibox.uni-heidelberg.de/d/8088892a516d4e3baf92/files/?p=%2Fconfigs%2Fmodel.yaml&dl=1' > vqgan_imagenet_f16_1024.yaml\n",
        "!curl -L 'https://heibox.uni-heidelberg.de/d/8088892a516d4e3baf92/files/?p=%2Fckpts%2Flast.ckpt&dl=1' > vqgan_imagenet_f16_1024.ckpt"
      ],
      "outputs": [],
      "metadata": {
        "id": "ZVxKqLzBcGt_",
        "colab": {
          "base_uri": "https://localhost:8080/"
        },
        "outputId": "e3c72e85-b9b0-4847-f248-879323fe1133"
      }
    },
    {
      "cell_type": "code",
      "execution_count": null,
      "source": [
        "!python /content/image-generation-clip_vqgan/image_generator_torch.py \\\n",
        "    --textos \"a fantasy world\" \\\n",
        "    --cutn 25\\\n",
        "    --no_horizontal_flip \\\n",
        "    --no_affine \\\n",
        "    --no_sharpness \\\n",
        "    --no_perspective \\\n",
        "    --no_color_jitter \\\n",
        "    --no_lanczos"
      ],
      "outputs": [],
      "metadata": {
        "colab": {
          "base_uri": "https://localhost:8080/"
        },
        "id": "0U0jsID73FTf",
        "outputId": "fd383296-cab1-48c8-ca58-29ff5d0fb03c"
      }
    },
    {
      "cell_type": "code",
      "execution_count": null,
      "source": [
        "!python /content/image-generation-clip_vqgan/image_generator_torch.py \\\n",
        "    --no_horizontal_flip "
      ],
      "outputs": [],
      "metadata": {
        "colab": {
          "base_uri": "https://localhost:8080/"
        },
        "id": "-32xaMi6zRq1",
        "outputId": "1b469fb1-71e3-40ff-92c9-ea4ced271e4c"
      }
    },
    {
      "cell_type": "code",
      "execution_count": null,
      "source": [
        "!python /content/image-generation-clip_vqgan/image_generator_torch.py \\\n",
        "    --no_sharpness \\"
      ],
      "outputs": [],
      "metadata": {
        "colab": {
          "base_uri": "https://localhost:8080/"
        },
        "id": "ROSemI7s0RWu",
        "outputId": "668952a6-ffd0-4860-98f5-42a6dd1f0aa1"
      }
    },
    {
      "cell_type": "code",
      "execution_count": null,
      "source": [
        "!python /content/image-generation-clip_vqgan/image_generator_torch.py \\\n",
        "    --no_color_jitter \\"
      ],
      "outputs": [],
      "metadata": {
        "colab": {
          "base_uri": "https://localhost:8080/"
        },
        "id": "H1I1NnyX0Xpm",
        "outputId": "e33943b9-bdc5-4f22-d086-fbff58d1b6df"
      }
    },
    {
      "cell_type": "code",
      "execution_count": null,
      "source": [
        "!python /content/image-generation-clip_vqgan/image_generator_torch.py \\\n",
        "    --no_affine \\"
      ],
      "outputs": [],
      "metadata": {
        "colab": {
          "base_uri": "https://localhost:8080/"
        },
        "id": "6VJyIpWU0ZeR",
        "outputId": "f7e2d77b-1578-4222-abd2-2257b6d573ed"
      }
    },
    {
      "cell_type": "code",
      "execution_count": null,
      "source": [
        "!python /content/image-generation-clip_vqgan/image_generator_torch.py \\\n",
        "    --no_perspective \\"
      ],
      "outputs": [],
      "metadata": {
        "colab": {
          "base_uri": "https://localhost:8080/"
        },
        "id": "uHl7I5v30cGc",
        "outputId": "ae07dbd2-88de-4e65-d426-7db37d95019c"
      }
    },
    {
      "cell_type": "code",
      "execution_count": null,
      "source": [
        "!python /content/image-generation-clip_vqgan/image_generator_torch.py "
      ],
      "outputs": [],
      "metadata": {
        "colab": {
          "base_uri": "https://localhost:8080/"
        },
        "id": "ctqqH69M7I5y",
        "outputId": "e1ef55e8-1107-449d-b085-5f5164953558"
      }
    },
    {
      "cell_type": "code",
      "execution_count": null,
      "source": [
        "!python /content/image-generation-clip_vqgan/image_generator_torch.py --help"
      ],
      "outputs": [],
      "metadata": {
        "colab": {
          "base_uri": "https://localhost:8080/"
        },
        "id": "KV9HYRIqwnxw",
        "outputId": "08b840ec-015e-4fc9-f4e4-27b7d8348fb1"
      }
    },
    {
      "cell_type": "code",
      "execution_count": null,
      "source": [
        "!python /content/image-generation-clip_vqgan/image_generator_torch.py \\\n",
        "    --no_horizontal_flip \\\n",
        "    --no_sharpness \\\n",
        "    --no_color_jitter \\\n",
        "    --no_affine \\\n",
        "    --no_perspective \\"
      ],
      "outputs": [],
      "metadata": {
        "colab": {
          "base_uri": "https://localhost:8080/"
        },
        "id": "QJj7Cd51JoQ2",
        "outputId": "765a3c7f-38cc-4b41-e75b-7ea30f4d4aa6"
      }
    },
    {
      "cell_type": "code",
      "execution_count": null,
      "source": [
        "!python /content/image-generation-clip_vqgan/image_generator_torch.py \\\n",
        "    --no_horizontal_flip \\\n",
        "    --no_sharpness \\\n",
        "    --no_color_jitter \\\n",
        "    --no_affine \\"
      ],
      "outputs": [],
      "metadata": {
        "colab": {
          "base_uri": "https://localhost:8080/"
        },
        "id": "q0NXRxolJ4GS",
        "outputId": "454cacc3-8275-4864-e98a-dfac04ad66f7"
      }
    },
    {
      "cell_type": "code",
      "execution_count": null,
      "source": [
        "!python /content/image-generation-clip_vqgan/image_generator_torch.py \\\n",
        "    --no_horizontal_flip \\\n",
        "    --no_sharpness \\\n",
        "    --no_color_jitter \\\n",
        "    --no_perspective \\"
      ],
      "outputs": [],
      "metadata": {
        "colab": {
          "base_uri": "https://localhost:8080/"
        },
        "id": "HtEAhHK8J6pr",
        "outputId": "9c4b51f9-e3b0-4c6b-b35b-364a65c618b0"
      }
    },
    {
      "cell_type": "code",
      "execution_count": null,
      "source": [
        "!python /content/image-generation-clip_vqgan/image_generator_torch.py \\\n",
        "    --no_horizontal_flip \\\n",
        "    --no_sharpness \\\n",
        "    --no_affine \\\n",
        "    --no_perspective \\"
      ],
      "outputs": [],
      "metadata": {
        "colab": {
          "base_uri": "https://localhost:8080/"
        },
        "id": "q5pF-NtqJ8Ck",
        "outputId": "f74b8cf6-5591-4133-edf8-2e77316f8c94"
      }
    },
    {
      "cell_type": "code",
      "execution_count": null,
      "source": [
        "!python /content/image-generation-clip_vqgan/image_generator_torch.py \\\n",
        "    --no_horizontal_flip \\\n",
        "    --no_color_jitter \\\n",
        "    --no_affine \\\n",
        "    --no_perspective \\"
      ],
      "outputs": [],
      "metadata": {
        "colab": {
          "base_uri": "https://localhost:8080/"
        },
        "id": "bJEKp5dNJ9V_",
        "outputId": "06fd545e-c3af-4f52-868a-f532f0e967b4"
      }
    },
    {
      "cell_type": "code",
      "execution_count": null,
      "source": [
        "!python /content/image-generation-clip_vqgan/image_generator_torch.py \\\n",
        "    --no_sharpness \\\n",
        "    --no_color_jitter \\\n",
        "    --no_affine \\\n",
        "    --no_perspective \\"
      ],
      "outputs": [],
      "metadata": {
        "colab": {
          "base_uri": "https://localhost:8080/"
        },
        "id": "RAqxM3ZZsbF3",
        "outputId": "f11fab8e-d3d6-451b-900f-322b5547ea24"
      }
    },
    {
      "cell_type": "code",
      "execution_count": null,
      "source": [],
      "outputs": [],
      "metadata": {
        "id": "auzGhOp-yQon"
      }
    }
  ]
}