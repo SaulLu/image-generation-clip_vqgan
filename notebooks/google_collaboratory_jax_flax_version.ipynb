{
  "nbformat": 4,
  "nbformat_minor": 2,
  "metadata": {
    "accelerator": "TPU",
    "colab": {
      "name": "generate-image.ipynb",
      "provenance": []
    },
    "kernelspec": {
      "display_name": "Python 3",
      "name": "python3"
    },
    "language_info": {
      "name": "python"
    }
  },
  "cells": [
    {
      "cell_type": "markdown",
      "source": [
        "# Imports"
      ],
      "metadata": {
        "id": "L9H0yJYouqbG"
      }
    },
    {
      "cell_type": "code",
      "execution_count": null,
      "source": [
        "!nvidia-smi"
      ],
      "outputs": [],
      "metadata": {
        "colab": {
          "base_uri": "https://localhost:8080/"
        },
        "id": "TIg-2gKUpylW",
        "outputId": "d7978f56-f503-45eb-c33b-6602d2ccbe95"
      }
    },
    {
      "cell_type": "code",
      "execution_count": null,
      "source": [
        "!nvcc --version"
      ],
      "outputs": [],
      "metadata": {
        "colab": {
          "base_uri": "https://localhost:8080/"
        },
        "id": "Kc5fl39Ypmdd",
        "outputId": "18ecb668-819a-40df-aa65-913e0ddb3a05"
      }
    },
    {
      "cell_type": "code",
      "execution_count": null,
      "source": [
        "!git clone https://github.com/SaulLu/image-generation-clip_vqgan.git"
      ],
      "outputs": [],
      "metadata": {
        "colab": {
          "base_uri": "https://localhost:8080/"
        },
        "id": "n_PaWGfyF6jY",
        "outputId": "0c5339ed-6518-4407-f72b-103da69154ab"
      }
    },
    {
      "cell_type": "code",
      "execution_count": null,
      "source": [
        "cd image-generation-clip_vqgan"
      ],
      "outputs": [],
      "metadata": {
        "colab": {
          "base_uri": "https://localhost:8080/"
        },
        "id": "mAsv_Bb_EfST",
        "outputId": "13d5e18d-0ddf-4a1c-95b9-fe7b598584ec"
      }
    },
    {
      "cell_type": "code",
      "execution_count": null,
      "source": [
        "# !git config --global user.email \"you@example.com\"\n",
        "# !git config --global user.name \"Your Name\""
      ],
      "outputs": [],
      "metadata": {
        "id": "EC0FARUjrfnt"
      }
    },
    {
      "cell_type": "code",
      "execution_count": null,
      "source": [
        "!git pull"
      ],
      "outputs": [],
      "metadata": {
        "colab": {
          "base_uri": "https://localhost:8080/"
        },
        "id": "FHHEoZ0CEtup",
        "outputId": "97305ebc-18d5-4da3-9eac-70d007c622f5"
      }
    },
    {
      "cell_type": "code",
      "execution_count": null,
      "source": [
        "!git branch -r"
      ],
      "outputs": [],
      "metadata": {
        "colab": {
          "base_uri": "https://localhost:8080/"
        },
        "id": "dikEkQqBErc_",
        "outputId": "96fc6ed1-7192-4c90-c020-0128d9d5d241"
      }
    },
    {
      "cell_type": "code",
      "execution_count": null,
      "source": [
        "!git branch"
      ],
      "outputs": [],
      "metadata": {
        "colab": {
          "base_uri": "https://localhost:8080/"
        },
        "id": "Cqr_gr13jJ6U",
        "outputId": "8a4ee7df-e23d-4142-9bfc-c5c3d5ffeda9"
      }
    },
    {
      "cell_type": "code",
      "execution_count": null,
      "source": [
        "# !git checkout -b gradient_accumulation_steps origin/gradient_accumulation_steps"
      ],
      "outputs": [],
      "metadata": {
        "id": "ZW5NdMrEEzr-"
      }
    },
    {
      "cell_type": "code",
      "execution_count": null,
      "source": [
        "!pip install -r requirements.txt"
      ],
      "outputs": [],
      "metadata": {
        "colab": {
          "base_uri": "https://localhost:8080/",
          "height": 1000
        },
        "id": "GhOX497cgzJ3",
        "outputId": "e51763cf-195d-423b-a000-55ca8da6096f"
      }
    },
    {
      "cell_type": "code",
      "execution_count": null,
      "source": [
        "cd .."
      ],
      "outputs": [],
      "metadata": {
        "colab": {
          "base_uri": "https://localhost:8080/"
        },
        "id": "9qgDi32qFiqJ",
        "outputId": "9a214267-4992-4ca8-efdc-bf238aa9d8a7"
      }
    },
    {
      "cell_type": "code",
      "execution_count": null,
      "source": [
        "# !pip install git+https://github.com/SaulLu/vqgan-jax@create-package "
      ],
      "outputs": [],
      "metadata": {
        "id": "EpHjjSRmfZt9"
      }
    },
    {
      "cell_type": "code",
      "execution_count": null,
      "source": [
        "!pip install ftfy wandb Pillow"
      ],
      "outputs": [],
      "metadata": {
        "colab": {
          "base_uri": "https://localhost:8080/"
        },
        "id": "26wZ_RbOf2ku",
        "outputId": "d2c0397e-539e-4ccf-899f-5f93463f4e3c"
      }
    },
    {
      "cell_type": "code",
      "execution_count": null,
      "source": [
        "!wandb login"
      ],
      "outputs": [],
      "metadata": {
        "colab": {
          "base_uri": "https://localhost:8080/"
        },
        "id": "TSY8Qoymj5lA",
        "outputId": "e8efcad3-2086-437d-b3e5-8d3edd8b56d8"
      }
    },
    {
      "cell_type": "code",
      "execution_count": null,
      "source": [
        "!python image-generation-clip_vqgan/image_generator.py --help"
      ],
      "outputs": [],
      "metadata": {
        "colab": {
          "base_uri": "https://localhost:8080/"
        },
        "id": "Vp_WfKBZSqcb",
        "outputId": "cba75032-957c-46d4-8de0-8332af93df47"
      }
    },
    {
      "cell_type": "code",
      "execution_count": null,
      "source": [
        "# import os\n",
        "# os.environ['XLA_PYTHON_CLIENT_PREALLOCATE']='true'\n",
        "# os.environ['XLA_PYTHON_CLIENT_MEM_FRACTION']='.90'"
      ],
      "outputs": [],
      "metadata": {
        "id": "EBZhdlymywAx"
      }
    },
    {
      "cell_type": "code",
      "execution_count": null,
      "source": [
        "!mkdir logs/"
      ],
      "outputs": [],
      "metadata": {
        "id": "DeY48Nx5V0Gu"
      }
    },
    {
      "cell_type": "markdown",
      "source": [
        "# test cut num"
      ],
      "metadata": {
        "id": "2AINZauxi-HE"
      }
    },
    {
      "cell_type": "code",
      "execution_count": null,
      "source": [
        "!python /content/image-generation-clip_vqgan/image_generator.py --texts_prompts ['a fantasy world'] --output_dir ./logs --cut_num 25 --overwrite_output_dir --logging_steps_heavy 50"
      ],
      "outputs": [],
      "metadata": {
        "colab": {
          "base_uri": "https://localhost:8080/"
        },
        "id": "YPX6eXlNxnAK",
        "outputId": "530007b0-7567-415d-c872-82de2bbe0ff6"
      }
    },
    {
      "cell_type": "code",
      "execution_count": null,
      "source": [
        "!python /content/image-generation-clip_vqgan/image_generator.py --texts_prompts ['a fantasy world'] --output_dir ./logs --cut_num 64 --overwrite_output_dir --logging_steps_heavy 50"
      ],
      "outputs": [],
      "metadata": {
        "id": "oxDLV8gXE4Iy"
      }
    },
    {
      "cell_type": "code",
      "execution_count": null,
      "source": [],
      "outputs": [],
      "metadata": {
        "id": "YGVAEo7au6Ex"
      }
    }
  ]
}